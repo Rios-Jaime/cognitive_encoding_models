{
 "cells": [
  {
   "cell_type": "code",
   "execution_count": 1,
   "id": "f6a7c775",
   "metadata": {},
   "outputs": [],
   "source": [
    "import json\n",
    "import os\n",
    "import glob\n",
    "import pickle\n",
    "import numpy as np\n",
    "import pandas as pd\n",
    "import matplotlib.pyplot as plt\n",
    "import seaborn as sns\n",
    "sns.set(rc={'figure.figsize':(10,6)}, font_scale=1.8)"
   ]
  },
  {
   "cell_type": "code",
   "execution_count": 2,
   "id": "1485d22e",
   "metadata": {},
   "outputs": [],
   "source": [
    "# Define params\n",
    "firstlevel_label = 'first_level_bySession'\n",
    "analysis_name = 'analysis-TrainingMeanCorrs'\n",
    "parcels = 1000\n",
    "model_names = ['RidgeCV']\n",
    "\n",
    "# Define paths\n",
    "proj_dir = os.path.abspath(os.path.join(os.getcwd(), '../..'))\n",
    "firstlevel_dir = os.path.join(proj_dir, 'Y_data', firstlevel_label)\n",
    "results_dir = os.path.join(proj_dir, 'model_outputs', firstlevel_label, analysis_name)"
   ]
  },
  {
   "cell_type": "code",
   "execution_count": 3,
   "id": "77ea2505",
   "metadata": {},
   "outputs": [],
   "source": [
    "## Aggregate results into one df\n",
    "\n",
    "res_df = None\n",
    "for model_name in model_names:\n",
    "    model_output_dir = os.path.join(results_dir, model_name)\n",
    "    \n",
    "    # Get list of dicts from the pkl files\n",
    "    dict_list = []\n",
    "    pkls = sorted(glob.glob(os.path.join(model_output_dir, '*')))\n",
    "    for fname in pkls:\n",
    "        with open(fname, 'rb') as f:\n",
    "            d = pickle.load(f)\n",
    "        # if null, make explicit in feature set label\n",
    "        num_parcels = list(d.keys())[0]\n",
    "        feature_set = list(d[num_parcels].keys())[0]\n",
    "        model_name = list(d[num_parcels][feature_set].keys())[0]\n",
    "        sub = list(d[num_parcels][feature_set][model_name].keys())[0]\n",
    "        d[num_parcels][feature_set][model_name][sub]['seed'] = 0\n",
    "        if 'shuffle' in fname:\n",
    "            feature_set_new = fname.split('_')[-3]\n",
    "            seed = fname.split('_')[-2].split('-')[-1]\n",
    "            d[num_parcels][feature_set_new] = d[num_parcels].pop(feature_set)\n",
    "            d[num_parcels][feature_set_new][model_name][sub]['seed'] = seed\n",
    "        dict_list.append(d) \n",
    "\n",
    "    # Aggregate dicts into a df\n",
    "    for d in dict_list:\n",
    "        num_parcels = list(d.keys())[0]\n",
    "        feature_set = list(d[num_parcels].keys())[0]\n",
    "        model_name = list(d[num_parcels][feature_set].keys())[0]\n",
    "        sub = list(d[num_parcels][feature_set][model_name].keys())[0]\n",
    "        sub_dict = d[num_parcels][feature_set][model_name][sub]\n",
    "        metrics = list(sub_dict.keys())\n",
    "        metrics = [i for i in metrics if i != 'preds']            \n",
    "        \n",
    "        if res_df is None:\n",
    "            cols = ['parcels', 'feature_set', 'model_name', 'sub']\n",
    "            cols.extend(metrics)\n",
    "            res_df = pd.DataFrame(columns=cols)\n",
    "\n",
    "        row = [num_parcels, feature_set, model_name, sub]\n",
    "        for m in metrics:\n",
    "            if m in ['r2_byMap', 'r2_byRegion']:\n",
    "                item = sub_dict[m][0]\n",
    "            else:\n",
    "                item = sub_dict[m]\n",
    "            if m not in ['preds']:\n",
    "                row.append(item)\n",
    "        res_df = res_df.append(pd.Series(row, index=res_df.columns), ignore_index=True)"
   ]
  },
  {
   "cell_type": "code",
   "execution_count": 4,
   "id": "b85784ef",
   "metadata": {},
   "outputs": [],
   "source": [
    "# Create correlations df\n",
    "df_corr = pd.DataFrame(columns=['corr', 'type', 'feature_set'])\n",
    "feature_sets = res_df['feature_set'].unique().tolist()\n",
    "for f in feature_sets:\n",
    "    all_corrs_predsTrain = []\n",
    "    all_corr_preds = []\n",
    "    for i, row in res_df[res_df['feature_set'] == f].iterrows():\n",
    "        for testpair, split_res in zip(row['testpairs'][0], row['corrs_predsTrain'][0]):\n",
    "            all_corrs_predsTrain.append(split_res[testpair.argmin()])\n",
    "            all_corrs_predsTrain.append(split_res[testpair.argmax()])\n",
    "        all_corr_preds.extend(row['corr_preds'][0])\n",
    "\n",
    "        df_temp = pd.DataFrame(all_corr_preds, columns=['corr'])\n",
    "        df_temp['type'] = 'corr_preds'\n",
    "        df_temp['feature_set'] = f\n",
    "        df_corr = pd.concat([df_corr, df_temp])\n",
    "\n",
    "        df_temp = pd.DataFrame(all_corrs_predsTrain, columns=['corr'])\n",
    "        df_temp['type'] = 'corrs_predsTrain'\n",
    "        df_temp['feature_set'] = f\n",
    "        df_corr = pd.concat([df_corr, df_temp])\n",
    "df_corr = df_corr[df_corr['feature_set'].isin(['all', 'all-shuffle-tasks'])]"
   ]
  },
  {
   "cell_type": "code",
   "execution_count": 5,
   "id": "8ce9e682",
   "metadata": {},
   "outputs": [
    {
     "data": {
      "text/html": [
       "<div>\n",
       "<style scoped>\n",
       "    .dataframe tbody tr th:only-of-type {\n",
       "        vertical-align: middle;\n",
       "    }\n",
       "\n",
       "    .dataframe tbody tr th {\n",
       "        vertical-align: top;\n",
       "    }\n",
       "\n",
       "    .dataframe thead th {\n",
       "        text-align: right;\n",
       "    }\n",
       "</style>\n",
       "<table border=\"1\" class=\"dataframe\">\n",
       "  <thead>\n",
       "    <tr style=\"text-align: right;\">\n",
       "      <th></th>\n",
       "      <th></th>\n",
       "      <th>corr</th>\n",
       "    </tr>\n",
       "    <tr>\n",
       "      <th>feature_set</th>\n",
       "      <th>type</th>\n",
       "      <th></th>\n",
       "    </tr>\n",
       "  </thead>\n",
       "  <tbody>\n",
       "    <tr>\n",
       "      <th rowspan=\"2\" valign=\"top\">all</th>\n",
       "      <th>corr_preds</th>\n",
       "      <td>0.604032</td>\n",
       "    </tr>\n",
       "    <tr>\n",
       "      <th>corrs_predsTrain</th>\n",
       "      <td>0.768534</td>\n",
       "    </tr>\n",
       "    <tr>\n",
       "      <th rowspan=\"2\" valign=\"top\">all-shuffle-tasks</th>\n",
       "      <th>corr_preds</th>\n",
       "      <td>0.829882</td>\n",
       "    </tr>\n",
       "    <tr>\n",
       "      <th>corrs_predsTrain</th>\n",
       "      <td>0.908100</td>\n",
       "    </tr>\n",
       "  </tbody>\n",
       "</table>\n",
       "</div>"
      ],
      "text/plain": [
       "                                        corr\n",
       "feature_set       type                      \n",
       "all               corr_preds        0.604032\n",
       "                  corrs_predsTrain  0.768534\n",
       "all-shuffle-tasks corr_preds        0.829882\n",
       "                  corrs_predsTrain  0.908100"
      ]
     },
     "execution_count": 5,
     "metadata": {},
     "output_type": "execute_result"
    }
   ],
   "source": [
    "df_corr.groupby(['feature_set', 'type']).mean()"
   ]
  },
  {
   "cell_type": "code",
   "execution_count": 6,
   "id": "27adf747",
   "metadata": {},
   "outputs": [
    {
     "data": {
      "text/html": [
       "<div>\n",
       "<style scoped>\n",
       "    .dataframe tbody tr th:only-of-type {\n",
       "        vertical-align: middle;\n",
       "    }\n",
       "\n",
       "    .dataframe tbody tr th {\n",
       "        vertical-align: top;\n",
       "    }\n",
       "\n",
       "    .dataframe thead th {\n",
       "        text-align: right;\n",
       "    }\n",
       "</style>\n",
       "<table border=\"1\" class=\"dataframe\">\n",
       "  <thead>\n",
       "    <tr style=\"text-align: right;\">\n",
       "      <th></th>\n",
       "      <th></th>\n",
       "      <th>corr</th>\n",
       "    </tr>\n",
       "    <tr>\n",
       "      <th>feature_set</th>\n",
       "      <th>type</th>\n",
       "      <th></th>\n",
       "    </tr>\n",
       "  </thead>\n",
       "  <tbody>\n",
       "    <tr>\n",
       "      <th rowspan=\"2\" valign=\"top\">all</th>\n",
       "      <th>corr_preds</th>\n",
       "      <td>0.195821</td>\n",
       "    </tr>\n",
       "    <tr>\n",
       "      <th>corrs_predsTrain</th>\n",
       "      <td>0.108829</td>\n",
       "    </tr>\n",
       "    <tr>\n",
       "      <th rowspan=\"2\" valign=\"top\">all-shuffle-tasks</th>\n",
       "      <th>corr_preds</th>\n",
       "      <td>0.107926</td>\n",
       "    </tr>\n",
       "    <tr>\n",
       "      <th>corrs_predsTrain</th>\n",
       "      <td>0.063479</td>\n",
       "    </tr>\n",
       "  </tbody>\n",
       "</table>\n",
       "</div>"
      ],
      "text/plain": [
       "                                        corr\n",
       "feature_set       type                      \n",
       "all               corr_preds        0.195821\n",
       "                  corrs_predsTrain  0.108829\n",
       "all-shuffle-tasks corr_preds        0.107926\n",
       "                  corrs_predsTrain  0.063479"
      ]
     },
     "execution_count": 6,
     "metadata": {},
     "output_type": "execute_result"
    }
   ],
   "source": [
    "df_corr.groupby(['feature_set', 'type']).std()"
   ]
  },
  {
   "cell_type": "code",
   "execution_count": 7,
   "id": "1966ae64",
   "metadata": {},
   "outputs": [
    {
     "data": {
      "image/png": "[encoded data removed]",
      "text/plain": [
       "<Figure size 864x720 with 1 Axes>"
      ]
     },
     "metadata": {},
     "output_type": "display_data"
    },
    {
     "data": {
      "image/png": "[encoded data removed]",
      "text/plain": [
       "<Figure size 864x720 with 1 Axes>"
      ]
     },
     "metadata": {},
     "output_type": "display_data"
    }
   ],
   "source": [
    "## Plot map-wise and region-wise r-squared\n",
    "\n",
    "sns.set(style='white', font_scale=2)\n",
    "\n",
    "df = df_corr\n",
    "filetype = 'pdf'\n",
    "\n",
    "fig_dir = 'figures/subject-specific-models'\n",
    "if not os.path.exists(fig_dir):\n",
    "    os.makedirs(fig_dir)\n",
    "\n",
    "order = ['all', 'all-shuffle-tasks']\n",
    "xticklabels = ['All', 'Null']\n",
    "palette = ['b', 'grey']\n",
    "\n",
    "labelsize = 35\n",
    "ticksize = 25\n",
    "\n",
    "metric = 'corrs_predsTrain'\n",
    "plt.figure(figsize=(12,10))\n",
    "ax = sns.boxplot(x='feature_set', y='corr', data=df[df['type']==metric], order=order, palette=palette)\n",
    "plt.xlabel('Feature Set', fontsize=labelsize)\n",
    "plt.ylabel('Correlation', fontsize=labelsize);\n",
    "ax.set_xticklabels(xticklabels, fontsize=ticksize)\n",
    "#plt.savefig(os.path.join(fig_dir, 'corr_with_trainingMean.%s' % filetype))\n",
    "plt.ylim(0, 1);\n",
    "\n",
    "metric = 'corr_preds'\n",
    "plt.figure(figsize=(12,10))\n",
    "ax = sns.boxplot(x='feature_set', y='corr', data=df[df['type']==metric], order=order, palette=palette)\n",
    "plt.xlabel('Feature Set', fontsize=labelsize)\n",
    "plt.ylabel('Correlation', fontsize=labelsize);\n",
    "ax.set_xticklabels(xticklabels, fontsize=ticksize)\n",
    "#plt.savefig(os.path.join(fig_dir, 'corr_betweenPreds.%s' % filetype))\n",
    "plt.ylim(0, 1);"
   ]
  }
 ],
 "metadata": {
  "kernelspec": {
   "display_name": "Python 3 (ipykernel)",
   "language": "python",
   "name": "python3"
  },
  "language_info": {
   "codemirror_mode": {
    "name": "ipython",
    "version": 3
   },
   "file_extension": ".py",
   "mimetype": "text/x-python",
   "name": "python",
   "nbconvert_exporter": "python",
   "pygments_lexer": "ipython3",
   "version": "3.7.10"
  }
 },
 "nbformat": 4,
 "nbformat_minor": 5
}
